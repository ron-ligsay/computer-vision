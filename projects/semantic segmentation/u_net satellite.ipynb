{
 "cells": [
  {
   "cell_type": "code",
   "execution_count": null,
   "metadata": {},
   "outputs": [],
   "source": [
    "# Installing required packages\n",
    "!pip install patchify"
   ]
  },
  {
   "cell_type": "code",
   "execution_count": 7,
   "metadata": {},
   "outputs": [
    {
     "name": "stdout",
     "output_type": "stream",
     "text": [
      "Collecting keras==2.3.1\n",
      "  Downloading Keras-2.3.1-py2.py3-none-any.whl (377 kB)\n",
      "     -------------------------------------- 377.8/377.8 kB 7.8 MB/s eta 0:00:00\n",
      "Requirement already satisfied: pyyaml in c:\\users\\aky\\appdata\\local\\programs\\python\\python38\\lib\\site-packages (from keras==2.3.1) (6.0)\n",
      "Requirement already satisfied: numpy>=1.9.1 in c:\\users\\aky\\appdata\\local\\programs\\python\\python38\\lib\\site-packages (from keras==2.3.1) (1.22.3)\n",
      "Requirement already satisfied: six>=1.9.0 in c:\\users\\aky\\appdata\\local\\programs\\python\\python38\\lib\\site-packages (from keras==2.3.1) (1.16.0)\n",
      "Requirement already satisfied: scipy>=0.14 in c:\\users\\aky\\appdata\\local\\programs\\python\\python38\\lib\\site-packages (from keras==2.3.1) (1.8.1)\n",
      "Requirement already satisfied: keras-preprocessing>=1.0.5 in c:\\users\\aky\\appdata\\local\\programs\\python\\python38\\lib\\site-packages (from keras==2.3.1) (1.1.2)\n",
      "Requirement already satisfied: h5py in c:\\users\\aky\\appdata\\local\\programs\\python\\python38\\lib\\site-packages (from keras==2.3.1) (3.7.0)\n",
      "Requirement already satisfied: keras-applications>=1.0.6 in c:\\users\\aky\\appdata\\local\\programs\\python\\python38\\lib\\site-packages (from keras==2.3.1) (1.0.8)\n",
      "Installing collected packages: keras\n",
      "  Attempting uninstall: keras\n",
      "    Found existing installation: keras 2.10.0\n",
      "    Uninstalling keras-2.10.0:\n",
      "      Successfully uninstalled keras-2.10.0\n",
      "Successfully installed keras-2.3.1\n"
     ]
    },
    {
     "name": "stderr",
     "output_type": "stream",
     "text": [
      "WARNING: Ignoring invalid distribution -yproj (c:\\users\\aky\\appdata\\local\\programs\\python\\python38\\lib\\site-packages)\n",
      "WARNING: Ignoring invalid distribution -yproj (c:\\users\\aky\\appdata\\local\\programs\\python\\python38\\lib\\site-packages)\n",
      "WARNING: Ignoring invalid distribution -yproj (c:\\users\\aky\\appdata\\local\\programs\\python\\python38\\lib\\site-packages)\n",
      "    WARNING: Ignoring invalid distribution -yproj (c:\\users\\aky\\appdata\\local\\programs\\python\\python38\\lib\\site-packages)\n",
      "WARNING: Ignoring invalid distribution -yproj (c:\\users\\aky\\appdata\\local\\programs\\python\\python38\\lib\\site-packages)\n",
      "ERROR: pip's dependency resolver does not currently take into account all the packages that are installed. This behaviour is the source of the following dependency conflicts.\n",
      "tensorflow 2.10.0 requires keras<2.11,>=2.10.0, but you have keras 2.3.1 which is incompatible.\n",
      "tensorflow-intel 2.10.0 requires keras<2.11,>=2.10.0, but you have keras 2.3.1 which is incompatible.\n",
      "WARNING: Ignoring invalid distribution -yproj (c:\\users\\aky\\appdata\\local\\programs\\python\\python38\\lib\\site-packages)\n",
      "WARNING: Ignoring invalid distribution -yproj (c:\\users\\aky\\appdata\\local\\programs\\python\\python38\\lib\\site-packages)\n",
      "WARNING: Ignoring invalid distribution -yproj (c:\\users\\aky\\appdata\\local\\programs\\python\\python38\\lib\\site-packages)\n"
     ]
    }
   ],
   "source": [
    "!pip3 install keras==2.3.1"
   ]
  },
  {
   "cell_type": "code",
   "execution_count": 5,
   "metadata": {},
   "outputs": [
    {
     "name": "stdout",
     "output_type": "stream",
     "text": [
      "Collecting segmentation-models\n",
      "  Downloading segmentation_models-1.0.1-py3-none-any.whl (33 kB)\n",
      "Collecting keras-applications<=1.0.8,>=1.0.7\n",
      "  Downloading Keras_Applications-1.0.8-py3-none-any.whl (50 kB)\n",
      "     ---------------------------------------- 50.7/50.7 kB 2.7 MB/s eta 0:00:00\n",
      "Collecting image-classifiers==1.0.0\n",
      "  Downloading image_classifiers-1.0.0-py3-none-any.whl (19 kB)\n",
      "Collecting efficientnet==1.0.0\n",
      "  Downloading efficientnet-1.0.0-py3-none-any.whl (17 kB)\n",
      "Requirement already satisfied: scikit-image in c:\\users\\aky\\appdata\\local\\programs\\python\\python38\\lib\\site-packages (from efficientnet==1.0.0->segmentation-models) (0.20.0)\n",
      "Requirement already satisfied: numpy>=1.9.1 in c:\\users\\aky\\appdata\\local\\programs\\python\\python38\\lib\\site-packages (from keras-applications<=1.0.8,>=1.0.7->segmentation-models) (1.22.3)\n",
      "Requirement already satisfied: h5py in c:\\users\\aky\\appdata\\local\\programs\\python\\python38\\lib\\site-packages (from keras-applications<=1.0.8,>=1.0.7->segmentation-models) (3.7.0)\n",
      "Requirement already satisfied: packaging>=20.0 in c:\\users\\aky\\appdata\\local\\programs\\python\\python38\\lib\\site-packages (from scikit-image->efficientnet==1.0.0->segmentation-models) (21.3)\n",
      "Requirement already satisfied: lazy_loader>=0.1 in c:\\users\\aky\\appdata\\local\\programs\\python\\python38\\lib\\site-packages (from scikit-image->efficientnet==1.0.0->segmentation-models) (0.2)\n",
      "Requirement already satisfied: pillow>=9.0.1 in c:\\users\\aky\\appdata\\local\\programs\\python\\python38\\lib\\site-packages (from scikit-image->efficientnet==1.0.0->segmentation-models) (9.2.0)\n",
      "Requirement already satisfied: tifffile>=2019.7.26 in c:\\users\\aky\\appdata\\local\\programs\\python\\python38\\lib\\site-packages (from scikit-image->efficientnet==1.0.0->segmentation-models) (2023.3.21)\n",
      "Requirement already satisfied: PyWavelets>=1.1.1 in c:\\users\\aky\\appdata\\local\\programs\\python\\python38\\lib\\site-packages (from scikit-image->efficientnet==1.0.0->segmentation-models) (1.4.1)\n",
      "Requirement already satisfied: networkx>=2.8 in c:\\users\\aky\\appdata\\local\\programs\\python\\python38\\lib\\site-packages (from scikit-image->efficientnet==1.0.0->segmentation-models) (3.0)\n",
      "Requirement already satisfied: imageio>=2.4.1 in c:\\users\\aky\\appdata\\local\\programs\\python\\python38\\lib\\site-packages (from scikit-image->efficientnet==1.0.0->segmentation-models) (2.27.0)\n",
      "Requirement already satisfied: scipy<1.9.2,>=1.8 in c:\\users\\aky\\appdata\\local\\programs\\python\\python38\\lib\\site-packages (from scikit-image->efficientnet==1.0.0->segmentation-models) (1.8.1)\n",
      "Requirement already satisfied: pyparsing!=3.0.5,>=2.0.2 in c:\\users\\aky\\appdata\\local\\programs\\python\\python38\\lib\\site-packages (from packaging>=20.0->scikit-image->efficientnet==1.0.0->segmentation-models) (3.0.9)\n",
      "Installing collected packages: keras-applications, image-classifiers, efficientnet, segmentation-models\n",
      "Successfully installed efficientnet-1.0.0 image-classifiers-1.0.0 keras-applications-1.0.8 segmentation-models-1.0.1\n"
     ]
    },
    {
     "name": "stderr",
     "output_type": "stream",
     "text": [
      "WARNING: Ignoring invalid distribution -yproj (c:\\users\\aky\\appdata\\local\\programs\\python\\python38\\lib\\site-packages)\n",
      "WARNING: Ignoring invalid distribution -yproj (c:\\users\\aky\\appdata\\local\\programs\\python\\python38\\lib\\site-packages)\n",
      "WARNING: Ignoring invalid distribution -yproj (c:\\users\\aky\\appdata\\local\\programs\\python\\python38\\lib\\site-packages)\n",
      "WARNING: Ignoring invalid distribution -yproj (c:\\users\\aky\\appdata\\local\\programs\\python\\python38\\lib\\site-packages)\n",
      "WARNING: Ignoring invalid distribution -yproj (c:\\users\\aky\\appdata\\local\\programs\\python\\python38\\lib\\site-packages)\n",
      "WARNING: Ignoring invalid distribution -yproj (c:\\users\\aky\\appdata\\local\\programs\\python\\python38\\lib\\site-packages)\n",
      "WARNING: Ignoring invalid distribution -yproj (c:\\users\\aky\\appdata\\local\\programs\\python\\python38\\lib\\site-packages)\n",
      "WARNING: Ignoring invalid distribution -yproj (c:\\users\\aky\\appdata\\local\\programs\\python\\python38\\lib\\site-packages)\n",
      "WARNING: Ignoring invalid distribution -yproj (c:\\users\\aky\\appdata\\local\\programs\\python\\python38\\lib\\site-packages)\n",
      "WARNING: Ignoring invalid distribution -yproj (c:\\users\\aky\\appdata\\local\\programs\\python\\python38\\lib\\site-packages)\n"
     ]
    }
   ],
   "source": [
    "!pip3 install -U segmentation-models"
   ]
  },
  {
   "cell_type": "code",
   "execution_count": 8,
   "metadata": {},
   "outputs": [],
   "source": [
    "# Importing libraries\n",
    "import os\n",
    "import cv2\n",
    "import numpy as np\n",
    "\n",
    "from matplotlib import pyplot as plt\n",
    "from patchify import patchify\n",
    "from PIL import Image\n",
    "import segmentation_models as sm\n",
    "from tensorflow.keras.metrics import MeanIoU\n",
    "\n",
    "from sklearn.preprocessing import MinMaxScaler, StandardScaler"
   ]
  },
  {
   "cell_type": "code",
   "execution_count": null,
   "metadata": {},
   "outputs": [],
   "source": [
    "# Scaling the data using scalar minmax\n",
    "scaler = MinMaxScaler()"
   ]
  }
 ],
 "metadata": {
  "kernelspec": {
   "display_name": "Python 3",
   "language": "python",
   "name": "python3"
  },
  "language_info": {
   "codemirror_mode": {
    "name": "ipython",
    "version": 3
   },
   "file_extension": ".py",
   "mimetype": "text/x-python",
   "name": "python",
   "nbconvert_exporter": "python",
   "pygments_lexer": "ipython3",
   "version": "3.8.5"
  },
  "orig_nbformat": 4
 },
 "nbformat": 4,
 "nbformat_minor": 2
}
