{
 "cells": [
  {
   "attachments": {},
   "cell_type": "markdown",
   "metadata": {},
   "source": [
    "# N-dimensional images"
   ]
  },
  {
   "attachments": {},
   "cell_type": "markdown",
   "metadata": {},
   "source": [
    "Images of all shpaes and sizes\n",
    "\n",
    "Image - \n",
    "im[row, col]\n",
    "\n",
    "3d Image - \n",
    "vol[pln, row, col]\n",
    "\n",
    "Color Images - \n",
    "im[row, col, ch]\n",
    "\n",
    "movies/time series - \n",
    "im_its[time, row, col, ch]\n",
    "\n",
    "N-dimensional images are stacks of arrays\n"
   ]
  },
  {
   "cell_type": "code",
   "execution_count": 1,
   "metadata": {},
   "outputs": [
    {
     "name": "stderr",
     "output_type": "stream",
     "text": [
      "C:\\Users\\aky\\AppData\\Local\\Temp\\ipykernel_12088\\1328367554.py:5: DeprecationWarning: Starting with ImageIO v3 the behavior of this function will switch to that of iio.v3.imread. To keep the current behavior (and make this warning disappear) use `import imageio.v2 as imageio` or call `imageio.v2.imread` directly.\n",
      "  dicom1 = imageio.imread('../../data/dicom/circle_of_willis_1-001.dcm')\n",
      "C:\\Users\\aky\\AppData\\Local\\Temp\\ipykernel_12088\\1328367554.py:6: DeprecationWarning: Starting with ImageIO v3 the behavior of this function will switch to that of iio.v3.imread. To keep the current behavior (and make this warning disappear) use `import imageio.v2 as imageio` or call `imageio.v2.imread` directly.\n",
      "  dicom2 = imageio.imread('../../data/dicom/circle_of_willis_1-002.dcm')\n",
      "C:\\Users\\aky\\AppData\\Local\\Temp\\ipykernel_12088\\1328367554.py:7: DeprecationWarning: Starting with ImageIO v3 the behavior of this function will switch to that of iio.v3.imread. To keep the current behavior (and make this warning disappear) use `import imageio.v2 as imageio` or call `imageio.v2.imread` directly.\n",
      "  dicom3 = imageio.imread('../../data/dicom/circle_of_willis_1-003.dcm')\n"
     ]
    },
    {
     "data": {
      "text/plain": [
       "(512, 512)"
      ]
     },
     "execution_count": 1,
     "metadata": {},
     "output_type": "execute_result"
    }
   ],
   "source": [
    "import imageio\n",
    "import numpy as np\n",
    "\n",
    "# Load a Dicom file\n",
    "dicom1 = imageio.imread('../../data/dicom/circle_of_willis_1-001.dcm')\n",
    "dicom2 = imageio.imread('../../data/dicom/circle_of_willis_1-002.dcm')\n",
    "dicom3 = imageio.imread('../../data/dicom/circle_of_willis_1-003.dcm')\n",
    "dicom1.shape"
   ]
  },
  {
   "cell_type": "code",
   "execution_count": 2,
   "metadata": {},
   "outputs": [
    {
     "data": {
      "text/plain": [
       "(3, 512, 512)"
      ]
     },
     "execution_count": 2,
     "metadata": {},
     "output_type": "execute_result"
    }
   ],
   "source": [
    "# Stacking arrays\n",
    "\n",
    "vol = np.stack([dicom1, dicom2, dicom3])\n",
    "vol.shape"
   ]
  },
  {
   "cell_type": "code",
   "execution_count": 8,
   "metadata": {},
   "outputs": [
    {
     "data": {
      "text/plain": [
       "['1-001.dcm',\n",
       " '1-002.dcm',\n",
       " '1-003.dcm',\n",
       " '1-004.dcm',\n",
       " '1-005.dcm',\n",
       " '1-006.dcm',\n",
       " '1-007.dcm',\n",
       " '1-008.dcm',\n",
       " '1-009.dcm',\n",
       " '1-010.dcm',\n",
       " '1-011.dcm',\n",
       " '1-012.dcm',\n",
       " '1-013.dcm',\n",
       " '1-014.dcm',\n",
       " '1-015.dcm',\n",
       " '1-016.dcm',\n",
       " '1-017.dcm',\n",
       " '1-018.dcm',\n",
       " '1-019.dcm',\n",
       " '1-020.dcm',\n",
       " '1-021.dcm',\n",
       " '1-022.dcm',\n",
       " '1-023.dcm',\n",
       " '1-024.dcm',\n",
       " '1-025.dcm',\n",
       " '1-026.dcm',\n",
       " '1-027.dcm',\n",
       " '1-028.dcm',\n",
       " '1-029.dcm',\n",
       " '1-033.dcm',\n",
       " '1-034.dcm',\n",
       " '1-035.dcm',\n",
       " '1-036.dcm',\n",
       " '1-037.dcm',\n",
       " '1-038.dcm',\n",
       " '1-039.dcm',\n",
       " '1-040.dcm',\n",
       " '1-041.dcm',\n",
       " '1-042.dcm',\n",
       " '1-043.dcm',\n",
       " '1-044.dcm',\n",
       " '1-045.dcm',\n",
       " '1-046.dcm',\n",
       " '1-047.dcm',\n",
       " '1-048.dcm',\n",
       " '1-049.dcm',\n",
       " '1-050.dcm',\n",
       " '1-051.dcm',\n",
       " '1-052.dcm',\n",
       " '1-053.dcm',\n",
       " '1-054.dcm',\n",
       " '1-055.dcm',\n",
       " '1-056.dcm',\n",
       " '1-057.dcm',\n",
       " '1-058.dcm',\n",
       " '1-059.dcm',\n",
       " '1-060.dcm',\n",
       " '1-061.dcm',\n",
       " '1-062.dcm',\n",
       " '1-063.dcm',\n",
       " '1-064.dcm',\n",
       " '1-065.dcm',\n",
       " '1-066.dcm',\n",
       " '1-067.dcm',\n",
       " '1-068.dcm',\n",
       " '1-069.dcm',\n",
       " '1-070.dcm',\n",
       " '1-071.dcm',\n",
       " '1-072.dcm',\n",
       " '1-073.dcm',\n",
       " '1-074.dcm',\n",
       " '1-075.dcm',\n",
       " '1-076.dcm',\n",
       " '1-077.dcm',\n",
       " '1-078.dcm',\n",
       " '1-079.dcm',\n",
       " '1-080.dcm',\n",
       " '1-081.dcm',\n",
       " '1-082.dcm',\n",
       " '1-083.dcm',\n",
       " '1-084.dcm',\n",
       " '1-085.dcm',\n",
       " '1-086.dcm',\n",
       " '1-087.dcm',\n",
       " '1-088.dcm',\n",
       " '1-089.dcm',\n",
       " '1-090.dcm',\n",
       " '1-091.dcm',\n",
       " '1-092.dcm',\n",
       " '1-093.dcm',\n",
       " '1-094.dcm',\n",
       " '1-095.dcm',\n",
       " '1-096.dcm',\n",
       " '1-097.dcm',\n",
       " '1-098.dcm',\n",
       " '1-099.dcm',\n",
       " '1-100.dcm',\n",
       " '1-101.dcm',\n",
       " '1-102.dcm',\n",
       " '1-103.dcm',\n",
       " '1-104.dcm',\n",
       " '1-105.dcm',\n",
       " '1-106.dcm',\n",
       " '1-107.dcm',\n",
       " '1-108.dcm',\n",
       " '1-109.dcm',\n",
       " '1-110.dcm',\n",
       " '1-111.dcm',\n",
       " '1-112.dcm',\n",
       " '1-113.dcm',\n",
       " '1-114.dcm',\n",
       " '1-115.dcm',\n",
       " '1-116.dcm',\n",
       " '1-117.dcm',\n",
       " '1-118.dcm',\n",
       " '1-119.dcm',\n",
       " '1-120.dcm',\n",
       " '1-121.dcm',\n",
       " '1-122.dcm',\n",
       " '1-123.dcm',\n",
       " '1-124.dcm',\n",
       " '1-125.dcm',\n",
       " '1-126.dcm',\n",
       " '1-127.dcm',\n",
       " '1-128.dcm',\n",
       " '1-129.dcm',\n",
       " '1-130.dcm',\n",
       " '1-131.dcm',\n",
       " '1-132.dcm',\n",
       " '1-133.dcm',\n",
       " '1-134.dcm',\n",
       " '1-135.dcm',\n",
       " '1-136.dcm',\n",
       " '1-137.dcm',\n",
       " '1-138.dcm',\n",
       " '1-139.dcm',\n",
       " '1-140.dcm',\n",
       " 'desktop.ini']"
      ]
     },
     "execution_count": 8,
     "metadata": {},
     "output_type": "execute_result"
    }
   ],
   "source": [
    "import os\n",
    "os.listdir('../../data/dicom/circle_of_willis/Circle of Willis')"
   ]
  },
  {
   "cell_type": "code",
   "execution_count": 10,
   "metadata": {},
   "outputs": [
    {
     "name": "stdout",
     "output_type": "stream",
     "text": [
      "Reading DICOM (examining files): 1/138 files (0.747/138 files (34.186/138 files (62.3126/138 files (91.3%138/138 files (100.0%)\n",
      "  Found 2 correct series.\n",
      "Reading DICOM (loading data): 11/29  (37.922/29  (75.929/29  (100.0%)\n"
     ]
    },
    {
     "data": {
      "text/plain": [
       "(29, 512, 512)"
      ]
     },
     "execution_count": 10,
     "metadata": {},
     "output_type": "execute_result"
    }
   ],
   "source": [
    "vol = imageio.volread('../../data/dicom/circle_of_willis/Circle of Willis', 'DICOM')\n",
    "vol.shape"
   ]
  },
  {
   "attachments": {},
   "cell_type": "markdown",
   "metadata": {},
   "source": [
    "### Shape, Sampling,  and field of view\n",
    "image shape: number of elements along each axis"
   ]
  },
  {
   "cell_type": "code",
   "execution_count": 11,
   "metadata": {},
   "outputs": [
    {
     "data": {
      "text/plain": [
       "(29, 512, 512)"
      ]
     },
     "execution_count": 11,
     "metadata": {},
     "output_type": "execute_result"
    }
   ],
   "source": [
    "# Image shape (in voxels)\n",
    "n0, n1, n2 = vol.shape\n",
    "n0, n1, n2"
   ]
  },
  {
   "attachments": {},
   "cell_type": "markdown",
   "metadata": {},
   "source": [
    "Sampling rate_ physical space  covered by each  element"
   ]
  },
  {
   "cell_type": "code",
   "execution_count": 12,
   "metadata": {},
   "outputs": [
    {
     "data": {
      "text/plain": [
       "(0.7000002179826856, 0.44921875, 0.44921875)"
      ]
     },
     "execution_count": 12,
     "metadata": {},
     "output_type": "execute_result"
    }
   ],
   "source": [
    "# sampling rate (in mm)\n",
    "d0, d1, d2 = vol.meta['sampling']\n",
    "d0, d1, d2"
   ]
  },
  {
   "attachments": {},
   "cell_type": "markdown",
   "metadata": {},
   "source": [
    "Field of view: physical space covered along each  axis"
   ]
  },
  {
   "cell_type": "code",
   "execution_count": 13,
   "metadata": {},
   "outputs": [
    {
     "data": {
      "text/plain": [
       "(20.300006321497882, 230.0, 230.0)"
      ]
     },
     "execution_count": 13,
     "metadata": {},
     "output_type": "execute_result"
    }
   ],
   "source": [
    "# field of view (in mm)\n",
    "n0 * d0, n1 * d1, n2 * d2"
   ]
  },
  {
   "cell_type": "code",
   "execution_count": null,
   "metadata": {},
   "outputs": [],
   "source": []
  }
 ],
 "metadata": {
  "kernelspec": {
   "display_name": "Python 3",
   "language": "python",
   "name": "python3"
  },
  "language_info": {
   "codemirror_mode": {
    "name": "ipython",
    "version": 3
   },
   "file_extension": ".py",
   "mimetype": "text/x-python",
   "name": "python",
   "nbconvert_exporter": "python",
   "pygments_lexer": "ipython3",
   "version": "3.8.5"
  },
  "orig_nbformat": 4
 },
 "nbformat": 4,
 "nbformat_minor": 2
}
