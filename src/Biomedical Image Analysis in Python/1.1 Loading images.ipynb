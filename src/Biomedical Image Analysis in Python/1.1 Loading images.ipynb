{
 "cells": [
  {
   "attachments": {},
   "cell_type": "markdown",
   "metadata": {},
   "source": [
    "# Loading images\n",
    "* :imageio: read and save images"
   ]
  },
  {
   "cell_type": "code",
   "execution_count": 1,
   "metadata": {},
   "outputs": [],
   "source": [
    "import imageio\n",
    "\n",
    "# Load a Dicom file\n",
    "#dicom = imageio.volread('data/CT-Abdomen.dcm')pag \n",
    "im = imageio.imread('body.dcm')"
   ]
  },
  {
   "cell_type": "code",
   "execution_count": null,
   "metadata": {},
   "outputs": [],
   "source": [
    "# image objects are NumPy arrays.\n",
    "im"
   ]
  },
  {
   "cell_type": "code",
   "execution_count": null,
   "metadata": {},
   "outputs": [],
   "source": [
    "import imageio"
   ]
  },
  {
   "cell_type": "code",
   "execution_count": 2,
   "metadata": {},
   "outputs": [
    {
     "ename": "NameError",
     "evalue": "name 'Dict' is not defined",
     "output_type": "error",
     "traceback": [
      "\u001b[1;31m---------------------------------------------------------------------------\u001b[0m",
      "\u001b[1;31mNameError\u001b[0m                                 Traceback (most recent call last)",
      "\u001b[1;32mc:\\Users\\aky\\Documents\\Programs\\computer-vision\\src\\Biomedical Image Analysis in Python\\1.1 Loading images.ipynb Cell 5\u001b[0m in \u001b[0;36m1\n\u001b[1;32m----> <a href='vscode-notebook-cell:/c%3A/Users/aky/Documents/Programs/computer-vision/src/Biomedical%20Image%20Analysis%20in%20Python/1.1%20Loading%20images.ipynb#X15sZmlsZQ%3D%3D?line=0'>1</a>\u001b[0m im \u001b[39m=\u001b[39m Dict([(\u001b[39m'\u001b[39m\u001b[39mTransferSyntaxUID\u001b[39m\u001b[39m'\u001b[39m, \u001b[39m'\u001b[39m\u001b[39m1.2.840.10008.1.2\u001b[39m\u001b[39m'\u001b[39m),\n\u001b[0;32m      <a href='vscode-notebook-cell:/c%3A/Users/aky/Documents/Programs/computer-vision/src/Biomedical%20Image%20Analysis%20in%20Python/1.1%20Loading%20images.ipynb#X15sZmlsZQ%3D%3D?line=1'>2</a>\u001b[0m       (\u001b[39m'\u001b[39m\u001b[39mSOPClassUID\u001b[39m\u001b[39m'\u001b[39m, \u001b[39m'\u001b[39m\u001b[39m1.2.840.10008.5.1.4.1.1.2\u001b[39m\u001b[39m'\u001b[39m),\n\u001b[0;32m      <a href='vscode-notebook-cell:/c%3A/Users/aky/Documents/Programs/computer-vision/src/Biomedical%20Image%20Analysis%20in%20Python/1.1%20Loading%20images.ipynb#X15sZmlsZQ%3D%3D?line=2'>3</a>\u001b[0m       (\u001b[39m'\u001b[39m\u001b[39mSOPInstanceUID\u001b[39m\u001b[39m'\u001b[39m,\n\u001b[0;32m      <a href='vscode-notebook-cell:/c%3A/Users/aky/Documents/Programs/computer-vision/src/Biomedical%20Image%20Analysis%20in%20Python/1.1%20Loading%20images.ipynb#X15sZmlsZQ%3D%3D?line=3'>4</a>\u001b[0m        \u001b[39m'\u001b[39m\u001b[39m1.3.6.1.4.1.14519.5.2.1.5168.1900.290866807370146801046392918286\u001b[39m\u001b[39m'\u001b[39m),\n\u001b[0;32m      <a href='vscode-notebook-cell:/c%3A/Users/aky/Documents/Programs/computer-vision/src/Biomedical%20Image%20Analysis%20in%20Python/1.1%20Loading%20images.ipynb#X15sZmlsZQ%3D%3D?line=4'>5</a>\u001b[0m       (\u001b[39m'\u001b[39m\u001b[39mStudyDate\u001b[39m\u001b[39m'\u001b[39m, \u001b[39m'\u001b[39m\u001b[39m20040529\u001b[39m\u001b[39m'\u001b[39m),\n\u001b[0;32m      <a href='vscode-notebook-cell:/c%3A/Users/aky/Documents/Programs/computer-vision/src/Biomedical%20Image%20Analysis%20in%20Python/1.1%20Loading%20images.ipynb#X15sZmlsZQ%3D%3D?line=5'>6</a>\u001b[0m       (\u001b[39m'\u001b[39m\u001b[39mSeriesDate\u001b[39m\u001b[39m'\u001b[39m, \u001b[39m'\u001b[39m\u001b[39m20040515\u001b[39m\u001b[39m'\u001b[39m),\n\u001b[0;32m      <a href='vscode-notebook-cell:/c%3A/Users/aky/Documents/Programs/computer-vision/src/Biomedical%20Image%20Analysis%20in%20Python/1.1%20Loading%20images.ipynb#X15sZmlsZQ%3D%3D?line=6'>7</a>\u001b[0m       (\u001b[39m'\u001b[39m\u001b[39mContentDate\u001b[39m\u001b[39m'\u001b[39m, \u001b[39m'\u001b[39m\u001b[39m20040515\u001b[39m\u001b[39m'\u001b[39m),\n\u001b[0;32m      <a href='vscode-notebook-cell:/c%3A/Users/aky/Documents/Programs/computer-vision/src/Biomedical%20Image%20Analysis%20in%20Python/1.1%20Loading%20images.ipynb#X15sZmlsZQ%3D%3D?line=7'>8</a>\u001b[0m       (\u001b[39m'\u001b[39m\u001b[39mStudyTime\u001b[39m\u001b[39m'\u001b[39m, \u001b[39m'\u001b[39m\u001b[39m115208\u001b[39m\u001b[39m'\u001b[39m),\n\u001b[0;32m      <a href='vscode-notebook-cell:/c%3A/Users/aky/Documents/Programs/computer-vision/src/Biomedical%20Image%20Analysis%20in%20Python/1.1%20Loading%20images.ipynb#X15sZmlsZQ%3D%3D?line=8'>9</a>\u001b[0m       (\u001b[39m'\u001b[39m\u001b[39mSeriesTime\u001b[39m\u001b[39m'\u001b[39m, \u001b[39m'\u001b[39m\u001b[39m115254\u001b[39m\u001b[39m'\u001b[39m),\n\u001b[0;32m     <a href='vscode-notebook-cell:/c%3A/Users/aky/Documents/Programs/computer-vision/src/Biomedical%20Image%20Analysis%20in%20Python/1.1%20Loading%20images.ipynb#X15sZmlsZQ%3D%3D?line=9'>10</a>\u001b[0m       (\u001b[39m'\u001b[39m\u001b[39mContentTime\u001b[39m\u001b[39m'\u001b[39m, \u001b[39m'\u001b[39m\u001b[39m115325\u001b[39m\u001b[39m'\u001b[39m),\n\u001b[0;32m     <a href='vscode-notebook-cell:/c%3A/Users/aky/Documents/Programs/computer-vision/src/Biomedical%20Image%20Analysis%20in%20Python/1.1%20Loading%20images.ipynb#X15sZmlsZQ%3D%3D?line=10'>11</a>\u001b[0m       (\u001b[39m'\u001b[39m\u001b[39mModality\u001b[39m\u001b[39m'\u001b[39m, \u001b[39m'\u001b[39m\u001b[39mCT\u001b[39m\u001b[39m'\u001b[39m),\n\u001b[0;32m     <a href='vscode-notebook-cell:/c%3A/Users/aky/Documents/Programs/computer-vision/src/Biomedical%20Image%20Analysis%20in%20Python/1.1%20Loading%20images.ipynb#X15sZmlsZQ%3D%3D?line=11'>12</a>\u001b[0m       (\u001b[39m'\u001b[39m\u001b[39mManufacturer\u001b[39m\u001b[39m'\u001b[39m, \u001b[39m'\u001b[39m\u001b[39mGE MEDICAL SYSTEMS\u001b[39m\u001b[39m'\u001b[39m),\n\u001b[0;32m     <a href='vscode-notebook-cell:/c%3A/Users/aky/Documents/Programs/computer-vision/src/Biomedical%20Image%20Analysis%20in%20Python/1.1%20Loading%20images.ipynb#X15sZmlsZQ%3D%3D?line=12'>13</a>\u001b[0m       (\u001b[39m'\u001b[39m\u001b[39mStudyDescription\u001b[39m\u001b[39m'\u001b[39m, \u001b[39m'\u001b[39m\u001b[39mPET CT with registered MR\u001b[39m\u001b[39m'\u001b[39m),\n\u001b[0;32m     <a href='vscode-notebook-cell:/c%3A/Users/aky/Documents/Programs/computer-vision/src/Biomedical%20Image%20Analysis%20in%20Python/1.1%20Loading%20images.ipynb#X15sZmlsZQ%3D%3D?line=13'>14</a>\u001b[0m       (\u001b[39m'\u001b[39m\u001b[39mSeriesDescription\u001b[39m\u001b[39m'\u001b[39m, \u001b[39m'\u001b[39m\u001b[39mCT IMAGES - RESEARCH\u001b[39m\u001b[39m'\u001b[39m),\n\u001b[0;32m     <a href='vscode-notebook-cell:/c%3A/Users/aky/Documents/Programs/computer-vision/src/Biomedical%20Image%20Analysis%20in%20Python/1.1%20Loading%20images.ipynb#X15sZmlsZQ%3D%3D?line=14'>15</a>\u001b[0m       (\u001b[39m'\u001b[39m\u001b[39mPatientName\u001b[39m\u001b[39m'\u001b[39m, \u001b[39m'\u001b[39m\u001b[39mSTS_007\u001b[39m\u001b[39m'\u001b[39m),\n\u001b[0;32m     <a href='vscode-notebook-cell:/c%3A/Users/aky/Documents/Programs/computer-vision/src/Biomedical%20Image%20Analysis%20in%20Python/1.1%20Loading%20images.ipynb#X15sZmlsZQ%3D%3D?line=15'>16</a>\u001b[0m       (\u001b[39m'\u001b[39m\u001b[39mPatientID\u001b[39m\u001b[39m'\u001b[39m, \u001b[39m'\u001b[39m\u001b[39mSTS_007\u001b[39m\u001b[39m'\u001b[39m),\n\u001b[0;32m     <a href='vscode-notebook-cell:/c%3A/Users/aky/Documents/Programs/computer-vision/src/Biomedical%20Image%20Analysis%20in%20Python/1.1%20Loading%20images.ipynb#X15sZmlsZQ%3D%3D?line=16'>17</a>\u001b[0m       (\u001b[39m'\u001b[39m\u001b[39mPatientBirthDate\u001b[39m\u001b[39m'\u001b[39m, \u001b[39m'\u001b[39m\u001b[39m'\u001b[39m),\n\u001b[0;32m     <a href='vscode-notebook-cell:/c%3A/Users/aky/Documents/Programs/computer-vision/src/Biomedical%20Image%20Analysis%20in%20Python/1.1%20Loading%20images.ipynb#X15sZmlsZQ%3D%3D?line=17'>18</a>\u001b[0m       (\u001b[39m'\u001b[39m\u001b[39mPatientSex\u001b[39m\u001b[39m'\u001b[39m, \u001b[39m'\u001b[39m\u001b[39mF \u001b[39m\u001b[39m'\u001b[39m),\n\u001b[0;32m     <a href='vscode-notebook-cell:/c%3A/Users/aky/Documents/Programs/computer-vision/src/Biomedical%20Image%20Analysis%20in%20Python/1.1%20Loading%20images.ipynb#X15sZmlsZQ%3D%3D?line=18'>19</a>\u001b[0m       (\u001b[39m'\u001b[39m\u001b[39mPatientWeight\u001b[39m\u001b[39m'\u001b[39m, \u001b[39m82.0\u001b[39m),\n\u001b[0;32m     <a href='vscode-notebook-cell:/c%3A/Users/aky/Documents/Programs/computer-vision/src/Biomedical%20Image%20Analysis%20in%20Python/1.1%20Loading%20images.ipynb#X15sZmlsZQ%3D%3D?line=19'>20</a>\u001b[0m       (\u001b[39m'\u001b[39m\u001b[39mStudyInstanceUID\u001b[39m\u001b[39m'\u001b[39m,\n\u001b[0;32m     <a href='vscode-notebook-cell:/c%3A/Users/aky/Documents/Programs/computer-vision/src/Biomedical%20Image%20Analysis%20in%20Python/1.1%20Loading%20images.ipynb#X15sZmlsZQ%3D%3D?line=20'>21</a>\u001b[0m        \u001b[39m'\u001b[39m\u001b[39m1.3.6.1.4.1.14519.5.2.1.5168.1900.381397737790414481604846607090\u001b[39m\u001b[39m'\u001b[39m),\n\u001b[0;32m     <a href='vscode-notebook-cell:/c%3A/Users/aky/Documents/Programs/computer-vision/src/Biomedical%20Image%20Analysis%20in%20Python/1.1%20Loading%20images.ipynb#X15sZmlsZQ%3D%3D?line=21'>22</a>\u001b[0m       (\u001b[39m'\u001b[39m\u001b[39mSeriesInstanceUID\u001b[39m\u001b[39m'\u001b[39m,\n\u001b[0;32m     <a href='vscode-notebook-cell:/c%3A/Users/aky/Documents/Programs/computer-vision/src/Biomedical%20Image%20Analysis%20in%20Python/1.1%20Loading%20images.ipynb#X15sZmlsZQ%3D%3D?line=22'>23</a>\u001b[0m        \u001b[39m'\u001b[39m\u001b[39m1.3.6.1.4.1.14519.5.2.1.5168.1900.315477836840324582280843038439\u001b[39m\u001b[39m'\u001b[39m),\n\u001b[0;32m     <a href='vscode-notebook-cell:/c%3A/Users/aky/Documents/Programs/computer-vision/src/Biomedical%20Image%20Analysis%20in%20Python/1.1%20Loading%20images.ipynb#X15sZmlsZQ%3D%3D?line=23'>24</a>\u001b[0m       (\u001b[39m'\u001b[39m\u001b[39mSeriesNumber\u001b[39m\u001b[39m'\u001b[39m, \u001b[39m2\u001b[39m),\n\u001b[0;32m     <a href='vscode-notebook-cell:/c%3A/Users/aky/Documents/Programs/computer-vision/src/Biomedical%20Image%20Analysis%20in%20Python/1.1%20Loading%20images.ipynb#X15sZmlsZQ%3D%3D?line=24'>25</a>\u001b[0m       (\u001b[39m'\u001b[39m\u001b[39mAcquisitionNumber\u001b[39m\u001b[39m'\u001b[39m, \u001b[39m1\u001b[39m),\n\u001b[0;32m     <a href='vscode-notebook-cell:/c%3A/Users/aky/Documents/Programs/computer-vision/src/Biomedical%20Image%20Analysis%20in%20Python/1.1%20Loading%20images.ipynb#X15sZmlsZQ%3D%3D?line=25'>26</a>\u001b[0m       (\u001b[39m'\u001b[39m\u001b[39mInstanceNumber\u001b[39m\u001b[39m'\u001b[39m, \u001b[39m57\u001b[39m),\n\u001b[0;32m     <a href='vscode-notebook-cell:/c%3A/Users/aky/Documents/Programs/computer-vision/src/Biomedical%20Image%20Analysis%20in%20Python/1.1%20Loading%20images.ipynb#X15sZmlsZQ%3D%3D?line=26'>27</a>\u001b[0m       (\u001b[39m'\u001b[39m\u001b[39mImagePositionPatient\u001b[39m\u001b[39m'\u001b[39m, (\u001b[39m-\u001b[39m\u001b[39m250.0\u001b[39m, \u001b[39m-\u001b[39m\u001b[39m250.0\u001b[39m, \u001b[39m-\u001b[39m\u001b[39m180.62\u001b[39m)),\n\u001b[0;32m     <a href='vscode-notebook-cell:/c%3A/Users/aky/Documents/Programs/computer-vision/src/Biomedical%20Image%20Analysis%20in%20Python/1.1%20Loading%20images.ipynb#X15sZmlsZQ%3D%3D?line=27'>28</a>\u001b[0m       (\u001b[39m'\u001b[39m\u001b[39mImageOrientationPatient\u001b[39m\u001b[39m'\u001b[39m, (\u001b[39m1.0\u001b[39m, \u001b[39m0.0\u001b[39m, \u001b[39m0.0\u001b[39m, \u001b[39m0.0\u001b[39m, \u001b[39m1.0\u001b[39m, \u001b[39m0.0\u001b[39m)),\n\u001b[0;32m     <a href='vscode-notebook-cell:/c%3A/Users/aky/Documents/Programs/computer-vision/src/Biomedical%20Image%20Analysis%20in%20Python/1.1%20Loading%20images.ipynb#X15sZmlsZQ%3D%3D?line=28'>29</a>\u001b[0m       (\u001b[39m'\u001b[39m\u001b[39mSamplesPerPixel\u001b[39m\u001b[39m'\u001b[39m, \u001b[39m1\u001b[39m),\n\u001b[0;32m     <a href='vscode-notebook-cell:/c%3A/Users/aky/Documents/Programs/computer-vision/src/Biomedical%20Image%20Analysis%20in%20Python/1.1%20Loading%20images.ipynb#X15sZmlsZQ%3D%3D?line=29'>30</a>\u001b[0m       (\u001b[39m'\u001b[39m\u001b[39mRows\u001b[39m\u001b[39m'\u001b[39m, \u001b[39m512\u001b[39m),\n\u001b[0;32m     <a href='vscode-notebook-cell:/c%3A/Users/aky/Documents/Programs/computer-vision/src/Biomedical%20Image%20Analysis%20in%20Python/1.1%20Loading%20images.ipynb#X15sZmlsZQ%3D%3D?line=30'>31</a>\u001b[0m       (\u001b[39m'\u001b[39m\u001b[39mColumns\u001b[39m\u001b[39m'\u001b[39m, \u001b[39m512\u001b[39m),\n\u001b[0;32m     <a href='vscode-notebook-cell:/c%3A/Users/aky/Documents/Programs/computer-vision/src/Biomedical%20Image%20Analysis%20in%20Python/1.1%20Loading%20images.ipynb#X15sZmlsZQ%3D%3D?line=31'>32</a>\u001b[0m       (\u001b[39m'\u001b[39m\u001b[39mPixelSpacing\u001b[39m\u001b[39m'\u001b[39m, (\u001b[39m0.976562\u001b[39m, \u001b[39m0.976562\u001b[39m)),\n\u001b[0;32m     <a href='vscode-notebook-cell:/c%3A/Users/aky/Documents/Programs/computer-vision/src/Biomedical%20Image%20Analysis%20in%20Python/1.1%20Loading%20images.ipynb#X15sZmlsZQ%3D%3D?line=32'>33</a>\u001b[0m       (\u001b[39m'\u001b[39m\u001b[39mBitsAllocated\u001b[39m\u001b[39m'\u001b[39m, \u001b[39m16\u001b[39m),\n\u001b[0;32m     <a href='vscode-notebook-cell:/c%3A/Users/aky/Documents/Programs/computer-vision/src/Biomedical%20Image%20Analysis%20in%20Python/1.1%20Loading%20images.ipynb#X15sZmlsZQ%3D%3D?line=33'>34</a>\u001b[0m       (\u001b[39m'\u001b[39m\u001b[39mBitsStored\u001b[39m\u001b[39m'\u001b[39m, \u001b[39m16\u001b[39m),\n\u001b[0;32m     <a href='vscode-notebook-cell:/c%3A/Users/aky/Documents/Programs/computer-vision/src/Biomedical%20Image%20Analysis%20in%20Python/1.1%20Loading%20images.ipynb#X15sZmlsZQ%3D%3D?line=34'>35</a>\u001b[0m       (\u001b[39m'\u001b[39m\u001b[39mHighBit\u001b[39m\u001b[39m'\u001b[39m, \u001b[39m15\u001b[39m),\n\u001b[0;32m     <a href='vscode-notebook-cell:/c%3A/Users/aky/Documents/Programs/computer-vision/src/Biomedical%20Image%20Analysis%20in%20Python/1.1%20Loading%20images.ipynb#X15sZmlsZQ%3D%3D?line=35'>36</a>\u001b[0m       (\u001b[39m'\u001b[39m\u001b[39mPixelRepresentation\u001b[39m\u001b[39m'\u001b[39m, \u001b[39m0\u001b[39m),\n\u001b[0;32m     <a href='vscode-notebook-cell:/c%3A/Users/aky/Documents/Programs/computer-vision/src/Biomedical%20Image%20Analysis%20in%20Python/1.1%20Loading%20images.ipynb#X15sZmlsZQ%3D%3D?line=36'>37</a>\u001b[0m       (\u001b[39m'\u001b[39m\u001b[39mRescaleIntercept\u001b[39m\u001b[39m'\u001b[39m, \u001b[39m-\u001b[39m\u001b[39m1024.0\u001b[39m),\n\u001b[0;32m     <a href='vscode-notebook-cell:/c%3A/Users/aky/Documents/Programs/computer-vision/src/Biomedical%20Image%20Analysis%20in%20Python/1.1%20Loading%20images.ipynb#X15sZmlsZQ%3D%3D?line=37'>38</a>\u001b[0m       (\u001b[39m'\u001b[39m\u001b[39mRescaleSlope\u001b[39m\u001b[39m'\u001b[39m, \u001b[39m1.0\u001b[39m),\n\u001b[0;32m     <a href='vscode-notebook-cell:/c%3A/Users/aky/Documents/Programs/computer-vision/src/Biomedical%20Image%20Analysis%20in%20Python/1.1%20Loading%20images.ipynb#X15sZmlsZQ%3D%3D?line=38'>39</a>\u001b[0m       (\u001b[39m'\u001b[39m\u001b[39mPixelData\u001b[39m\u001b[39m'\u001b[39m,\n\u001b[0;32m     <a href='vscode-notebook-cell:/c%3A/Users/aky/Documents/Programs/computer-vision/src/Biomedical%20Image%20Analysis%20in%20Python/1.1%20Loading%20images.ipynb#X15sZmlsZQ%3D%3D?line=39'>40</a>\u001b[0m        \u001b[39mb\u001b[39m\u001b[39m'\u001b[39m\u001b[39mData converted to numpy array, raw data removed to preserve memory\u001b[39m\u001b[39m'\u001b[39m),\n\u001b[0;32m     <a href='vscode-notebook-cell:/c%3A/Users/aky/Documents/Programs/computer-vision/src/Biomedical%20Image%20Analysis%20in%20Python/1.1%20Loading%20images.ipynb#X15sZmlsZQ%3D%3D?line=40'>41</a>\u001b[0m       (\u001b[39m'\u001b[39m\u001b[39mshape\u001b[39m\u001b[39m'\u001b[39m, (\u001b[39m512\u001b[39m, \u001b[39m512\u001b[39m)),\n\u001b[0;32m     <a href='vscode-notebook-cell:/c%3A/Users/aky/Documents/Programs/computer-vision/src/Biomedical%20Image%20Analysis%20in%20Python/1.1%20Loading%20images.ipynb#X15sZmlsZQ%3D%3D?line=41'>42</a>\u001b[0m       (\u001b[39m'\u001b[39m\u001b[39msampling\u001b[39m\u001b[39m'\u001b[39m, (\u001b[39m0.976562\u001b[39m, \u001b[39m0.976562\u001b[39m))])\n",
      "\u001b[1;31mNameError\u001b[0m: name 'Dict' is not defined"
     ]
    }
   ],
   "source": [
    "im = Dict([('TransferSyntaxUID', '1.2.840.10008.1.2'),\n",
    "      ('SOPClassUID', '1.2.840.10008.5.1.4.1.1.2'),\n",
    "      ('SOPInstanceUID',\n",
    "       '1.3.6.1.4.1.14519.5.2.1.5168.1900.290866807370146801046392918286'),\n",
    "      ('StudyDate', '20040529'),\n",
    "      ('SeriesDate', '20040515'),\n",
    "      ('ContentDate', '20040515'),\n",
    "      ('StudyTime', '115208'),\n",
    "      ('SeriesTime', '115254'),\n",
    "      ('ContentTime', '115325'),\n",
    "      ('Modality', 'CT'),\n",
    "      ('Manufacturer', 'GE MEDICAL SYSTEMS'),\n",
    "      ('StudyDescription', 'PET CT with registered MR'),\n",
    "      ('SeriesDescription', 'CT IMAGES - RESEARCH'),\n",
    "      ('PatientName', 'STS_007'),\n",
    "      ('PatientID', 'STS_007'),\n",
    "      ('PatientBirthDate', ''),\n",
    "      ('PatientSex', 'F '),\n",
    "      ('PatientWeight', 82.0),\n",
    "      ('StudyInstanceUID',\n",
    "       '1.3.6.1.4.1.14519.5.2.1.5168.1900.381397737790414481604846607090'),\n",
    "      ('SeriesInstanceUID',\n",
    "       '1.3.6.1.4.1.14519.5.2.1.5168.1900.315477836840324582280843038439'),\n",
    "      ('SeriesNumber', 2),\n",
    "      ('AcquisitionNumber', 1),\n",
    "      ('InstanceNumber', 57),\n",
    "      ('ImagePositionPatient', (-250.0, -250.0, -180.62)),\n",
    "      ('ImageOrientationPatient', (1.0, 0.0, 0.0, 0.0, 1.0, 0.0)),\n",
    "      ('SamplesPerPixel', 1),\n",
    "      ('Rows', 512),\n",
    "      ('Columns', 512),\n",
    "      ('PixelSpacing', (0.976562, 0.976562)),\n",
    "      ('BitsAllocated', 16),\n",
    "      ('BitsStored', 16),\n",
    "      ('HighBit', 15),\n",
    "      ('PixelRepresentation', 0),\n",
    "      ('RescaleIntercept', -1024.0),\n",
    "      ('RescaleSlope', 1.0),\n",
    "      ('PixelData',\n",
    "       b'Data converted to numpy array, raw data removed to preserve memory'),\n",
    "      ('shape', (512, 512)),\n",
    "      ('sampling', (0.976562, 0.976562))])"
   ]
  },
  {
   "attachments": {},
   "cell_type": "markdown",
   "metadata": {},
   "source": [
    "## Metadata\n",
    "* metadataL the who, what, when and how of image acquisition\n",
    "* Accessible in the Image object through the meta dictionary attribute"
   ]
  },
  {
   "cell_type": "code",
   "execution_count": null,
   "metadata": {},
   "outputs": [],
   "source": [
    "im.meta"
   ]
  },
  {
   "cell_type": "code",
   "execution_count": null,
   "metadata": {},
   "outputs": [],
   "source": [
    "im.meta['Modality'] "
   ]
  },
  {
   "cell_type": "code",
   "execution_count": null,
   "metadata": {},
   "outputs": [],
   "source": [
    "im.meta.keys() # list all the metadata keys"
   ]
  },
  {
   "cell_type": "code",
   "execution_count": null,
   "metadata": {},
   "outputs": [],
   "source": [
    "# Print image attributes\n",
    "print('Image type:', type(im))\n",
    "print('Shape of image array:', im.shape)"
   ]
  },
  {
   "attachments": {},
   "cell_type": "markdown",
   "metadata": {},
   "source": [
    "## Plotting images\n",
    "* matplotlib's imshow() function displays 2d image data\n",
    "* many colormaps available but often shownn in grayscale\n",
    "* axis ticks and labels are often not userful for iamges"
   ]
  },
  {
   "cell_type": "code",
   "execution_count": null,
   "metadata": {},
   "outputs": [],
   "source": [
    "import matplotlib.pyplot as plt\n",
    "plt.imwho(im, cmap='gray')\n",
    "plt.axis('off')\n",
    "plt.show()"
   ]
  },
  {
   "attachments": {},
   "cell_type": "markdown",
   "metadata": {},
   "source": [
    "vmin and vmax control the color contrast between values. Changing these can reduce the influence of extreme values.\n",
    "color maps: https://matplotlib.org/2.0.2/users/colormaps.html"
   ]
  },
  {
   "cell_type": "code",
   "execution_count": null,
   "metadata": {},
   "outputs": [],
   "source": [
    "# Draw the image with greater contrast\n",
    "plt.imshow(im, cmap = \"gray\", vmin=-200, vmax=200)\n",
    "\n",
    "# Render the image\n",
    "plt.show()"
   ]
  }
 ],
 "metadata": {
  "kernelspec": {
   "display_name": "Python 3",
   "language": "python",
   "name": "python3"
  },
  "language_info": {
   "codemirror_mode": {
    "name": "ipython",
    "version": 3
   },
   "file_extension": ".py",
   "mimetype": "text/x-python",
   "name": "python",
   "nbconvert_exporter": "python",
   "pygments_lexer": "ipython3",
   "version": "3.8.5"
  },
  "orig_nbformat": 4
 },
 "nbformat": 4,
 "nbformat_minor": 2
}
