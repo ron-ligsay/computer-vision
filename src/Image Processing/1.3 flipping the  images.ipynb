{
 "cells": [
  {
   "attachments": {},
   "cell_type": "markdown",
   "metadata": {},
   "source": [
    "# Flipping the  Images"
   ]
  },
  {
   "cell_type": "code",
   "execution_count": null,
   "metadata": {},
   "outputs": [],
   "source": [
    "# Import numpy\n",
    "import numpy as np\n",
    "\n",
    "# Import matplotlib\n",
    "import matplotlib.pyplot as plt"
   ]
  },
  {
   "cell_type": "code",
   "execution_count": null,
   "metadata": {},
   "outputs": [],
   "source": [
    "# Import image from data folder\n",
    "madrid_image = plt.imread('images/madrid.jpg')\n",
    "\n",
    "print('Type:', type(madrid_image))"
   ]
  },
  {
   "cell_type": "code",
   "execution_count": null,
   "metadata": {},
   "outputs": [],
   "source": [
    "# Flipping the image vertically\n",
    "vertical_flip = np.flipud(madrid_image)\n",
    "\n",
    "# Displaying the image\n",
    "plt.imshow(vertical_flip)"
   ]
  },
  {
   "cell_type": "code",
   "execution_count": null,
   "metadata": {},
   "outputs": [],
   "source": [
    "# flipping the image horizontally\n",
    "horizontal_flip = np.fliplr(madrid_image)\n",
    "\n",
    "# Displaying the image\n",
    "plt.imshow(horizontal_flip)"
   ]
  }
 ],
 "metadata": {
  "language_info": {
   "name": "python"
  },
  "orig_nbformat": 4
 },
 "nbformat": 4,
 "nbformat_minor": 2
}
