{
 "cells": [
  {
   "cell_type": "code",
   "execution_count": 1,
   "metadata": {},
   "outputs": [],
   "source": [
    "import cv2 as cv\n",
    "import sys"
   ]
  },
  {
   "cell_type": "code",
   "execution_count": 2,
   "metadata": {},
   "outputs": [],
   "source": [
    "img = cv.imread('C:\\\\Users\\\\aky\\\\Documents\\\\Programs\\\\computer-vision\\\\data\\\\photos\\\\cat_large.jpg')\n",
    "# img = cv.imread(cv.samples.findFile('cat.jpg'))\n",
    "\n",
    "if img is None:\n",
    "    sys.exit(\"Could not read the image.\")\n",
    "\n",
    "cv.imshow('Cat',img)\n",
    "# cv.waitKey(5)\n",
    "k = cv.waitKey(0)\n",
    "\n",
    "if k == ord('s'):\n",
    "    cv.imwrite('cat_copy.png',img)\n",
    "    cv.destroyAllWindows()\n",
    "\n",
    "#cv.destroyAllWindows()"
   ]
  },
  {
   "cell_type": "code",
   "execution_count": 5,
   "metadata": {},
   "outputs": [
    {
     "name": "stdout",
     "output_type": "stream",
     "text": [
      "<class 'cv2.VideoCapture'>\n",
      "True\n",
      "1280.0\n",
      "720.0\n",
      "29.97002997002997\n",
      "336.0\n",
      "11.2112\n"
     ]
    }
   ],
   "source": [
    "#capture = cv.VideoCapture(0)\n",
    "capture = cv.VideoCapture('C:\\\\Users\\\\aky\\\\Documents\\\\Programs\\\\computer-vision\\\\data\\\\videos\\\\dog.mp4')\n",
    "\n",
    "print(type(capture))\n",
    "print(capture.isOpened())\n",
    "print(capture.get(cv.CAP_PROP_FRAME_WIDTH))\n",
    "print(capture.get(cv.CAP_PROP_FRAME_HEIGHT))\n",
    "print(capture.get(cv.CAP_PROP_FPS))\n",
    "print(capture.get(cv.CAP_PROP_FRAME_COUNT))\n",
    "\n",
    "# Playback Time of the video in seconds with Total frames / FPS\n",
    "print(capture.get(cv.CAP_PROP_FRAME_COUNT) / capture.get(cv.CAP_PROP_FPS))\n",
    "\n",
    "# Set the width and height\n",
    "# capture.set(cv.CAP_PROP_FRAME_WIDTH, 500)\n",
    "# capture.set(cv.CAP_PROP_FRAME_HEIGHT, 500)\n",
    "# if it returns true then it means it has set the width and height\n",
    "# else it will return false, if it cant set the width and height\n",
    "\n",
    "\n",
    "while True:\n",
    "    isTrue, frame = capture.read()\n",
    "    #print(type(frame)) # <class 'numpy.ndarray'>\n",
    "    #print(frame.shape) # (720, 1280, 3)\n",
    "    if isTrue:\n",
    "        cv.imshow('Video', frame)\n",
    "        if cv.waitKey(20) & 0xFF==ord('d'):\n",
    "            break\n",
    "    \n",
    "    else:\n",
    "        #break\n",
    "        capture.set(cv.CAP_PROP_POS_FRAMES, 0)\n",
    "\n",
    "\n",
    "capture.release()\n",
    "cv.destroyAllWindows()\n",
    "# or cv.destroyWindow('Video')\n",
    "\n",
    "#-215 error means that the image is not found"
   ]
  },
  {
   "cell_type": "code",
   "execution_count": null,
   "metadata": {},
   "outputs": [],
   "source": []
  }
 ],
 "metadata": {
  "kernelspec": {
   "display_name": "Python 3",
   "language": "python",
   "name": "python3"
  },
  "language_info": {
   "codemirror_mode": {
    "name": "ipython",
    "version": 3
   },
   "file_extension": ".py",
   "mimetype": "text/x-python",
   "name": "python",
   "nbconvert_exporter": "python",
   "pygments_lexer": "ipython3",
   "version": "3.8.5"
  }
 },
 "nbformat": 4,
 "nbformat_minor": 2
}
