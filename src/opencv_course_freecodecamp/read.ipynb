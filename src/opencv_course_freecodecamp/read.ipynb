{
 "cells": [
  {
   "cell_type": "code",
   "execution_count": 1,
   "metadata": {},
   "outputs": [],
   "source": [
    "import cv2 as cv\n",
    "import sys"
   ]
  },
  {
   "cell_type": "code",
   "execution_count": 2,
   "metadata": {},
   "outputs": [],
   "source": [
    "img = cv.imread('C:\\\\Users\\\\aky\\\\Documents\\\\Programs\\\\computer-vision\\\\data\\\\photos\\\\cat_large.jpg')\n",
    "# img = cv.imread(cv.samples.findFile('cat.jpg'))\n",
    "\n",
    "if img is None:\n",
    "    sys.exit(\"Could not read the image.\")\n",
    "\n",
    "cv.imshow('Cat',img)\n",
    "# cv.waitKey(5)\n",
    "k = cv.waitKey(0)\n",
    "\n",
    "if k == ord('s'):\n",
    "    cv.imwrite('cat_copy.png',img)\n",
    "    cv.destroyAllWindows()\n",
    "\n",
    "#cv.destroyAllWindows()"
   ]
  },
  {
   "cell_type": "code",
   "execution_count": 17,
   "metadata": {},
   "outputs": [
    {
     "name": "stdout",
     "output_type": "stream",
     "text": [
      "<class 'cv2.VideoCapture'>\n",
      "True\n",
      "1280.0\n",
      "720.0\n",
      "29.97002997002997\n",
      "336.0\n",
      "11.2112\n"
     ]
    }
   ],
   "source": [
    "#capture = cv.VideoCapture(0)\n",
    "capture = cv.VideoCapture('C:\\\\Users\\\\aky\\\\Documents\\\\Programs\\\\computer-vision\\\\data\\\\videos\\\\dog.mp4')\n",
    "\n",
    "print(type(capture))\n",
    "print(capture.isOpened())\n",
    "print(capture.get(cv.CAP_PROP_FRAME_WIDTH))\n",
    "print(capture.get(cv.CAP_PROP_FRAME_HEIGHT))\n",
    "print(capture.get(cv.CAP_PROP_FPS))\n",
    "print(capture.get(cv.CAP_PROP_FRAME_COUNT))\n",
    "\n",
    "# Playback Time of the video in seconds with Total frames / FPS\n",
    "print(capture.get(cv.CAP_PROP_FRAME_COUNT) / capture.get(cv.CAP_PROP_FPS))\n"
   ]
  },
  {
   "cell_type": "code",
   "execution_count": null,
   "metadata": {},
   "outputs": [],
   "source": [
    "# Set the width and height\n",
    "capture.set(cv.CAP_PROP_FRAME_WIDTH, 500)\n",
    "capture.set(cv.CAP_PROP_FRAME_HEIGHT, 500)\n",
    "# if it returns true then it means it has set the width and height\n",
    "# else it will return false, if it cant set the width and height"
   ]
  },
  {
   "cell_type": "code",
   "execution_count": 6,
   "metadata": {},
   "outputs": [],
   "source": [
    "def rescaleFrame(frame, scale=0.75):\n",
    "    # Images, Videos and Live Videos\n",
    "    width = int(frame.shape[1] * scale)\n",
    "    height = int(frame.shape[0] * scale)\n",
    "    dimensions = (width,height)\n",
    "\n",
    "    return cv.resize(frame, dimensions, interpolation=cv.INTER_AREA)"
   ]
  },
  {
   "cell_type": "code",
   "execution_count": 19,
   "metadata": {},
   "outputs": [],
   "source": [
    "def changeRes(width,height):\n",
    "    # live video\n",
    "    capture.set(3,width) # 3 is the width\n",
    "    capture.set(4,height)# 4 is the height\n",
    "    # brightness = capture.get(10)\n",
    "    "
   ]
  },
  {
   "cell_type": "code",
   "execution_count": 18,
   "metadata": {},
   "outputs": [],
   "source": [
    "# displaying the video\n",
    "while True:\n",
    "    isTrue, frame = capture.read()\n",
    "    #print(type(frame)) # <class 'numpy.ndarray'>\n",
    "    \n",
    "    #print(frame.shape) # (720, 1280, 3)\n",
    "    frame_resized = rescaleFrame(frame, scale=0.2)\n",
    "\n",
    "\n",
    "    if isTrue:\n",
    "        #cv.imshow('Video', frame)\n",
    "        cv.imshow('Video Resized', frame_resized)\n",
    "        if cv.waitKey(20) & 0xFF==ord('d'):\n",
    "            break\n",
    "    \n",
    "    else:\n",
    "        #break\n",
    "        capture.set(cv.CAP_PROP_POS_FRAMES, 0)\n",
    "\n",
    "\n",
    "capture.release()\n",
    "cv.destroyAllWindows()\n",
    "# or cv.destroyWindow('Video')\n",
    "\n",
    "#-215 error means that the image is not found"
   ]
  },
  {
   "cell_type": "code",
   "execution_count": null,
   "metadata": {},
   "outputs": [],
   "source": []
  }
 ],
 "metadata": {
  "kernelspec": {
   "display_name": "Python 3",
   "language": "python",
   "name": "python3"
  },
  "language_info": {
   "codemirror_mode": {
    "name": "ipython",
    "version": 3
   },
   "file_extension": ".py",
   "mimetype": "text/x-python",
   "name": "python",
   "nbconvert_exporter": "python",
   "pygments_lexer": "ipython3",
   "version": "3.8.5"
  }
 },
 "nbformat": 4,
 "nbformat_minor": 2
}
