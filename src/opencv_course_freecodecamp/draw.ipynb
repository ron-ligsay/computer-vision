{
 "cells": [
  {
   "cell_type": "markdown",
   "metadata": {},
   "source": []
  },
  {
   "cell_type": "code",
   "execution_count": 2,
   "metadata": {},
   "outputs": [],
   "source": [
    "import cv2 as cv\n",
    "import numpy as np"
   ]
  },
  {
   "cell_type": "code",
   "execution_count": 16,
   "metadata": {},
   "outputs": [],
   "source": [
    "blank = np.zeros((500,500,3), dtype='uint8')"
   ]
  },
  {
   "cell_type": "code",
   "execution_count": 11,
   "metadata": {},
   "outputs": [
    {
     "data": {
      "text/plain": [
       "-1"
      ]
     },
     "execution_count": 11,
     "metadata": {},
     "output_type": "execute_result"
    }
   ],
   "source": [
    "cv.imshow('Blank', blank)\n",
    "cv.waitKey(0)"
   ]
  },
  {
   "cell_type": "code",
   "execution_count": null,
   "metadata": {},
   "outputs": [],
   "source": [
    "img = cv.imread('C:\\\\Users\\\\aky\\\\Documents\\\\Programs\\\\computer-vision\\\\data\\\\photos\\\\cat.jpg')\n",
    "cv.imshow('Blank', blank)\n",
    "cv.waitKey(0)"
   ]
  },
  {
   "cell_type": "markdown",
   "metadata": {},
   "source": [
    "## Paint hte iamge a certain color"
   ]
  },
  {
   "cell_type": "code",
   "execution_count": 17,
   "metadata": {},
   "outputs": [
    {
     "data": {
      "text/plain": [
       "-1"
      ]
     },
     "execution_count": 17,
     "metadata": {},
     "output_type": "execute_result"
    }
   ],
   "source": [
    "blank = np.zeros((500,500,3), dtype='uint8')\n",
    "#blank[:] = 0,255,0\n",
    "blank[200:300, 300:400] = 0,0,255\n",
    "\n",
    "# rectangle\n",
    "# pt1 for top left corner\n",
    "# pt2 for bottom right corner\n",
    "# color is in BGR format\n",
    "# thickness is -1 for filled rectangle\n",
    "# lineType is cv.LINE_4, cv.LINE_8, cv.LINE_AA\n",
    "#cv.rectangle(blank, (0,0), (250,250), (0,255,0), thickness=-1, lineType=cv.LINE_4)\n",
    "cv.rectangle(blank, (0,0), (blank.shape[1]//2, blank.shape[0]//2), (0,255,0), thickness=-1, lineType=cv.LINE_4)\n",
    "\n",
    "\n",
    "cv.imshow('Colored', blank)\n",
    "cv.waitKey(0)"
   ]
  },
  {
   "cell_type": "code",
   "execution_count": 32,
   "metadata": {},
   "outputs": [
    {
     "data": {
      "text/plain": [
       "-1"
      ]
     },
     "execution_count": 32,
     "metadata": {},
     "output_type": "execute_result"
    }
   ],
   "source": [
    "blank = np.zeros((500,500,3), dtype='uint8')\n",
    "\n",
    "#blank[:] = 0,255,0\n",
    "blank[200:300, 300:400] = 0,0,255\n",
    "\n",
    "# rectangle\n",
    "# pt1 for top left corner\n",
    "# pt2 for bottom right corner\n",
    "# color is in BGR format\n",
    "# thickness is -1 for filled rectangle\n",
    "# lineType is cv.LINE_4, cv.LINE_8, cv.LINE_AA\n",
    "#cv.rectangle(blank, (0,0), (250,250), (0,255,0), thickness=-1, lineType=cv.LINE_4)\n",
    "cv.rectangle(blank, (0,0), (blank.shape[1]//2, blank.shape[0]//2), (0,255,0), thickness=-1, lineType=cv.LINE_4)\n",
    "\n",
    "# cicle\n",
    "cv.circle(blank, (blank.shape[1]//2, blank.shape[0]//2), 40, (0,0,255), thickness=3)\n",
    "\n",
    "# line\n",
    "cv.line(blank, (100,250), (300,400), (0,0,255), thickness=3)\n",
    "\n",
    "# text\n",
    "cv.putText(blank, 'Hello, this is my frame', (225,225), cv.FONT_HERSHEY_TRIPLEX, 1.0, (0,255,0), thickness=2)\n",
    "\n",
    "cv.imshow('Drawing', blank)\n",
    "cv.waitKey(0)"
   ]
  },
  {
   "cell_type": "code",
   "execution_count": 27,
   "metadata": {},
   "outputs": [
    {
     "data": {
      "text/plain": [
       "-1"
      ]
     },
     "execution_count": 27,
     "metadata": {},
     "output_type": "execute_result"
    }
   ],
   "source": []
  },
  {
   "cell_type": "code",
   "execution_count": null,
   "metadata": {},
   "outputs": [],
   "source": []
  }
 ],
 "metadata": {
  "kernelspec": {
   "display_name": "cv_env",
   "language": "python",
   "name": "python3"
  },
  "language_info": {
   "codemirror_mode": {
    "name": "ipython",
    "version": 3
   },
   "file_extension": ".py",
   "mimetype": "text/x-python",
   "name": "python",
   "nbconvert_exporter": "python",
   "pygments_lexer": "ipython3",
   "version": "3.8.5"
  }
 },
 "nbformat": 4,
 "nbformat_minor": 2
}
