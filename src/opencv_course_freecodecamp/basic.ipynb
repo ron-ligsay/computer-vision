{
 "cells": [
  {
   "cell_type": "code",
   "execution_count": 1,
   "metadata": {},
   "outputs": [],
   "source": [
    "import cv2 as cv"
   ]
  },
  {
   "cell_type": "code",
   "execution_count": 8,
   "metadata": {},
   "outputs": [
    {
     "data": {
      "text/plain": [
       "-1"
      ]
     },
     "execution_count": 8,
     "metadata": {},
     "output_type": "execute_result"
    }
   ],
   "source": [
    "img = cv.imread('C:\\\\Users\\\\aky\\\\Documents\\\\Programs\\\\computer-vision\\\\data\\\\photos\\\\madrid.jpg')\n",
    "\n",
    "# converting to grayscale\n",
    "gray = cv.cvtColor(img, cv.COLOR_BGR2GRAY)\n",
    "\n",
    "# blur\n",
    "# should be odd numbers\n",
    "blur = cv.GaussianBlur(img, (7,7), cv.BORDER_DEFAULT) \n",
    "\n",
    "# edge cascade, pass in the blur image to reduce noise\n",
    "canny = cv.Canny(blur, 125, 175)\n",
    "\n",
    "#  Dilating the image\n",
    "dilated =  cv.dilate(canny, (7,7), iterations=3)\n",
    "\n",
    "# Eroding\n",
    "eroded = cv.erode(dilated, (7,7), iterations=3)\n",
    "\n",
    "# cv.imshow('Cat',img)\n",
    "# cv.imshow('Gray',gray)\n",
    "# cv.imshow('Blur',blur)\n",
    "# cv.imshow('Canny',canny)\n",
    "cv.imshow('Dilated',dilated)\n",
    "cv.imshow('Eroded',eroded)\n",
    "\n",
    "cv.waitKey(0)"
   ]
  },
  {
   "cell_type": "code",
   "execution_count": 13,
   "metadata": {},
   "outputs": [
    {
     "data": {
      "text/plain": [
       "-1"
      ]
     },
     "execution_count": 13,
     "metadata": {},
     "output_type": "execute_result"
    }
   ],
   "source": [
    "img = cv.imread('C:\\\\Users\\\\aky\\\\Documents\\\\Programs\\\\computer-vision\\\\data\\\\photos\\\\madrid.jpg')\n",
    "\n",
    "# resize\n",
    "resized = cv.resize(img, (500,500), interpolation=cv.INTER_AREA)\n",
    "# for making the image bigger use cv.INTER_LINEAR or cv.INTER_CUBIC\n",
    "# Cubic is slower but better quality\n",
    "\n",
    "# cropping\n",
    "cropped = img[50:200, 200:400]\n",
    "\n",
    "cv.imshow('Madrid',img)\n",
    "cv.imshow('Resized',resized)\n",
    "cv.imshow('Cropped',cropped)\n",
    "\n",
    "cv.waitKey(0)"
   ]
  },
  {
   "cell_type": "code",
   "execution_count": null,
   "metadata": {},
   "outputs": [],
   "source": []
  }
 ],
 "metadata": {
  "kernelspec": {
   "display_name": "cv_env",
   "language": "python",
   "name": "python3"
  },
  "language_info": {
   "codemirror_mode": {
    "name": "ipython",
    "version": 3
   },
   "file_extension": ".py",
   "mimetype": "text/x-python",
   "name": "python",
   "nbconvert_exporter": "python",
   "pygments_lexer": "ipython3",
   "version": "3.8.5"
  }
 },
 "nbformat": 4,
 "nbformat_minor": 2
}
