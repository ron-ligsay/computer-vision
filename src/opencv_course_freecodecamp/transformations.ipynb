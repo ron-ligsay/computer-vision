{
 "cells": [
  {
   "cell_type": "code",
   "execution_count": 3,
   "metadata": {},
   "outputs": [],
   "source": [
    "import cv2 as cv\n",
    "import numpy as np"
   ]
  },
  {
   "cell_type": "code",
   "execution_count": 4,
   "metadata": {},
   "outputs": [
    {
     "data": {
      "text/plain": [
       "-1"
      ]
     },
     "execution_count": 4,
     "metadata": {},
     "output_type": "execute_result"
    }
   ],
   "source": [
    "img = cv.imread('C:\\\\Users\\\\aky\\\\Documents\\\\Programs\\\\computer-vision\\\\data\\\\photos\\\\madrid.jpg')\n",
    "cv.imshow('Madrid', img)\n",
    "cv.waitKey(0)"
   ]
  },
  {
   "cell_type": "code",
   "execution_count": 5,
   "metadata": {},
   "outputs": [],
   "source": [
    "def rescaleFrame(frame, scale=0.75):\n",
    "    # Images, Videos and Live Videos\n",
    "    width = int(frame.shape[1] * scale)\n",
    "    height = int(frame.shape[0] * scale)\n",
    "    dimensions = (width,height)\n",
    "\n",
    "    return cv.resize(frame, dimensions, interpolation=cv.INTER_AREA)"
   ]
  },
  {
   "cell_type": "code",
   "execution_count": 6,
   "metadata": {},
   "outputs": [],
   "source": [
    "# Translation\n",
    "def translate(img, x, y):\n",
    "    # -x --> Left, -y --> Up\n",
    "    # x --> Right, y --> Down\n",
    "    transMat = np.float32([[1,0,x],[0,1,y]])\n",
    "    dimensions = (img.shape[1], img.shape[0]) # (width, height)\n",
    "    return cv.warpAffine(img, transMat, dimensions)\n"
   ]
  },
  {
   "cell_type": "code",
   "execution_count": 7,
   "metadata": {},
   "outputs": [],
   "source": [
    "# Rotation\n",
    "def rotate(img, angle, rotPoint=None):\n",
    "    # getting the height and width of the image\n",
    "    (height, width) = img.shape[:2]\n",
    "\n",
    "    # if no rotation point is given, rotate around the center of the image\n",
    "    if rotPoint is None:\n",
    "        rotPoint = (width//2, height//2)\n",
    "\n",
    "    # cv.getRotationMatrix2D(center, angle, scale)\n",
    "    rotMat = cv.getRotationMatrix2D(rotPoint, angle, 1.0) # 1.0 --> scale means no scaling\n",
    "    dimensions = (width, height)\n",
    "\n",
    "    return cv.warpAffine(img, rotMat, dimensions)"
   ]
  },
  {
   "cell_type": "code",
   "execution_count": null,
   "metadata": {},
   "outputs": [],
   "source": []
  },
  {
   "cell_type": "code",
   "execution_count": 14,
   "metadata": {},
   "outputs": [
    {
     "data": {
      "text/plain": [
       "-1"
      ]
     },
     "execution_count": 14,
     "metadata": {},
     "output_type": "execute_result"
    }
   ],
   "source": [
    "img = cv.imread('C:\\\\Users\\\\aky\\\\Documents\\\\Programs\\\\computer-vision\\\\data\\\\photos\\\\madrid.jpg')\n",
    "\n",
    "img = rescaleFrame(img, 0.5)\n",
    "# cv.imshow('Madrid', img)\n",
    "\n",
    "translated = translate(img, -100, 100)\n",
    "# cv.imshow('Translated', translated)\n",
    "\n",
    "rotated = rotate(img, -45)\n",
    "# cv.imshow('Rotated', rotated)\n",
    "\n",
    "rotated_rotated = rotate(img, -90)\n",
    "# cv.imshow('Rotated Rotated', rotated_rotated)\n",
    "\n",
    "resized = cv.resize(img, (700,700), interpolation=cv.INTER_CUBIC)\n",
    "# cv.imshow('Resized', resized)\n",
    "\n",
    "flip = cv.flip(img, -1)\n",
    "# 0 --> flip vertically\n",
    "# 1 --> flip horizontally\n",
    "# -1 --> flip both vertically and horizontally\n",
    "cv.imshow('Flip', flip)\n",
    "\n",
    "# cropping\n",
    "cropped = img[200:400, 300:400]\n",
    "# cv.imshow('Cropped', cropped)\n",
    "\n",
    "\n",
    "\n",
    "cv.waitKey(0)"
   ]
  },
  {
   "cell_type": "code",
   "execution_count": null,
   "metadata": {},
   "outputs": [],
   "source": []
  }
 ],
 "metadata": {
  "kernelspec": {
   "display_name": "cv_env",
   "language": "python",
   "name": "python3"
  },
  "language_info": {
   "codemirror_mode": {
    "name": "ipython",
    "version": 3
   },
   "file_extension": ".py",
   "mimetype": "text/x-python",
   "name": "python",
   "nbconvert_exporter": "python",
   "pygments_lexer": "ipython3",
   "version": "3.8.5"
  }
 },
 "nbformat": 4,
 "nbformat_minor": 2
}
