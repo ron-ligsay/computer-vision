{
 "cells": [
  {
   "attachments": {},
   "cell_type": "markdown",
   "metadata": {},
   "source": [
    "## Applications\n",
    "* turning to grayscale before detecting edges/corners\n",
    "* reducing noise and restoring images\n",
    "* blurring faces detected\n",
    "* approximation of object's sizes"
   ]
  },
  {
   "cell_type": "code",
   "execution_count": 2,
   "metadata": {},
   "outputs": [],
   "source": [
    "# Import numpy\n",
    "import numpy as np\n",
    "\n",
    "# Import matplotlib\n",
    "import matplotlib.pyplot as plt\n",
    "\n",
    "# Import image from data folder\n",
    "image = plt.imread('../../data/photos/lady.jpg')"
   ]
  },
  {
   "cell_type": "code",
   "execution_count": 1,
   "metadata": {},
   "outputs": [],
   "source": [
    "# import cascade of classifier and gaussial filter\n",
    "from skimage.feature import Cascade\n",
    "from skimage.filters import gaussian"
   ]
  },
  {
   "cell_type": "code",
   "execution_count": 3,
   "metadata": {},
   "outputs": [],
   "source": [
    "# import the data module\n",
    "from skimage import data\n",
    "\n",
    "# Load the trained file from the module  root\n",
    "trained_file = data.lbp_frontal_face_cascade_filename()\n",
    "\n",
    "# Initialize the detector cascade\n",
    "detector = Cascade(trained_file)"
   ]
  },
  {
   "cell_type": "code",
   "execution_count": 4,
   "metadata": {},
   "outputs": [],
   "source": [
    "def getFace(d):\n",
    "    x, y = d['r'], d['c']\n",
    "    w, h = d['r'] + d['width'], d['c'] + d['height']\n",
    "\n",
    "    return image[x:w, y:h]"
   ]
  },
  {
   "cell_type": "code",
   "execution_count": 19,
   "metadata": {},
   "outputs": [],
   "source": [
    "def mergeBlurryFace(original, gaussian_image, d):\n",
    "    x, y = d['r'], d['c']\n",
    "    w, h = d['r'] + d['width'], d['c'] + d['height']\n",
    "\n",
    "    # sanity check\n",
    "    print(x, y, w, h, gaussian_image.shape)\n",
    "\n",
    "    original[x:w, y:h] = gaussian_image[:,:]\n",
    "    return original"
   ]
  },
  {
   "cell_type": "code",
   "execution_count": 21,
   "metadata": {},
   "outputs": [
    {
     "name": "stdout",
     "output_type": "stream",
     "text": [
      "143 189 386 432 (243, 243, 3)\n"
     ]
    },
    {
     "ename": "ValueError",
     "evalue": "assignment destination is read-only",
     "output_type": "error",
     "traceback": [
      "\u001b[1;31m---------------------------------------------------------------------------\u001b[0m",
      "\u001b[1;31mValueError\u001b[0m                                Traceback (most recent call last)",
      "\u001b[1;32mc:\\Users\\aky\\Documents\\Programs\\computer-vision\\src\\Image Processing_datacamp\\application.ipynb Cell 7\u001b[0m in \u001b[0;36m1\n\u001b[0;32m     <a href='vscode-notebook-cell:/c%3A/Users/aky/Documents/Programs/computer-vision/src/Image%20Processing_datacamp/application.ipynb#W2sZmlsZQ%3D%3D?line=10'>11</a>\u001b[0m     gaussian_face \u001b[39m=\u001b[39m gaussian(face, channel_axis\u001b[39m=\u001b[39m\u001b[39m3\u001b[39m, sigma\u001b[39m=\u001b[39m\u001b[39m10\u001b[39m)\n\u001b[0;32m     <a href='vscode-notebook-cell:/c%3A/Users/aky/Documents/Programs/computer-vision/src/Image%20Processing_datacamp/application.ipynb#W2sZmlsZQ%3D%3D?line=12'>13</a>\u001b[0m     \u001b[39m# merge the gaussian filter and the face\u001b[39;00m\n\u001b[1;32m---> <a href='vscode-notebook-cell:/c%3A/Users/aky/Documents/Programs/computer-vision/src/Image%20Processing_datacamp/application.ipynb#W2sZmlsZQ%3D%3D?line=13'>14</a>\u001b[0m     resulting_image \u001b[39m=\u001b[39m mergeBlurryFace(image, gaussian_face, d)\n\u001b[0;32m     <a href='vscode-notebook-cell:/c%3A/Users/aky/Documents/Programs/computer-vision/src/Image%20Processing_datacamp/application.ipynb#W2sZmlsZQ%3D%3D?line=15'>16</a>\u001b[0m \u001b[39m# Show the resulting image\u001b[39;00m\n\u001b[0;32m     <a href='vscode-notebook-cell:/c%3A/Users/aky/Documents/Programs/computer-vision/src/Image%20Processing_datacamp/application.ipynb#W2sZmlsZQ%3D%3D?line=16'>17</a>\u001b[0m plt\u001b[39m.\u001b[39mimshow(resulting_image)\n",
      "\u001b[1;32mc:\\Users\\aky\\Documents\\Programs\\computer-vision\\src\\Image Processing_datacamp\\application.ipynb Cell 7\u001b[0m in \u001b[0;36m8\n\u001b[0;32m      <a href='vscode-notebook-cell:/c%3A/Users/aky/Documents/Programs/computer-vision/src/Image%20Processing_datacamp/application.ipynb#W2sZmlsZQ%3D%3D?line=4'>5</a>\u001b[0m \u001b[39m# sanity check\u001b[39;00m\n\u001b[0;32m      <a href='vscode-notebook-cell:/c%3A/Users/aky/Documents/Programs/computer-vision/src/Image%20Processing_datacamp/application.ipynb#W2sZmlsZQ%3D%3D?line=5'>6</a>\u001b[0m \u001b[39mprint\u001b[39m(x, y, w, h, gaussian_image\u001b[39m.\u001b[39mshape)\n\u001b[1;32m----> <a href='vscode-notebook-cell:/c%3A/Users/aky/Documents/Programs/computer-vision/src/Image%20Processing_datacamp/application.ipynb#W2sZmlsZQ%3D%3D?line=7'>8</a>\u001b[0m original[x:w, y:h] \u001b[39m=\u001b[39m gaussian_image[:,:]\n\u001b[0;32m      <a href='vscode-notebook-cell:/c%3A/Users/aky/Documents/Programs/computer-vision/src/Image%20Processing_datacamp/application.ipynb#W2sZmlsZQ%3D%3D?line=8'>9</a>\u001b[0m \u001b[39mreturn\u001b[39;00m original\n",
      "\u001b[1;31mValueError\u001b[0m: assignment destination is read-only"
     ]
    }
   ],
   "source": [
    "# detect the faces\n",
    "#detector = Cascade('haarcascade_frontalface_default.xml')\n",
    "detected = detector.detect_multi_scale(img=image, scale_factor=1.2, step_ratio=1, min_size=(10, 10), max_size=(600, 600))\n",
    "#image.setflags(write=1)\n",
    "# For each detected face\n",
    "for d in detected:\n",
    "    # Obtain the position and size\n",
    "    face = getFace(d)\n",
    "    \n",
    "    # Apply gaussian filter\n",
    "    gaussian_face = gaussian(face, channel_axis=3, sigma=10)\n",
    "\n",
    "    # merge the gaussian filter and the face\n",
    "    resulting_image = mergeBlurryFace(image, gaussian_face, d)\n",
    "\n",
    "# Show the resulting image\n",
    "plt.imshow(resulting_image)\n",
    "plt.show()\n"
   ]
  },
  {
   "cell_type": "code",
   "execution_count": null,
   "metadata": {},
   "outputs": [],
   "source": []
  }
 ],
 "metadata": {
  "kernelspec": {
   "display_name": "Python 3",
   "language": "python",
   "name": "python3"
  },
  "language_info": {
   "codemirror_mode": {
    "name": "ipython",
    "version": 3
   },
   "file_extension": ".py",
   "mimetype": "text/x-python",
   "name": "python",
   "nbconvert_exporter": "python",
   "pygments_lexer": "ipython3",
   "version": "3.8.5"
  },
  "orig_nbformat": 4
 },
 "nbformat": 4,
 "nbformat_minor": 2
}
